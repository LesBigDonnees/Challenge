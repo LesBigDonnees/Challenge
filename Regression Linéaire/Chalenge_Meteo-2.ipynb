{
 "cells": [
  {
   "cell_type": "code",
   "execution_count": 66,
   "metadata": {
    "collapsed": true
   },
   "outputs": [],
   "source": [
    "import pandas as pd\n",
    "import numpy as np"
   ]
  },
  {
   "cell_type": "markdown",
   "metadata": {},
   "source": [
    "## Importation des données"
   ]
  },
  {
   "cell_type": "code",
   "execution_count": 67,
   "metadata": {
    "collapsed": true
   },
   "outputs": [],
   "source": [
    "l= []\n",
    "for i in range(36):\n",
    "    ch=\"train_\"+str(i+1)+\".csv\"\n",
    "    l.append(ch)\n"
   ]
  },
  {
   "cell_type": "code",
   "execution_count": null,
   "metadata": {
    "collapsed": true
   },
   "outputs": [],
   "source": [
    "df = pd.DataFrame({'A' : [np.nan]})\n",
    "df.dropna().empty"
   ]
  },
  {
   "cell_type": "code",
   "execution_count": 68,
   "metadata": {
    "collapsed": false
   },
   "outputs": [],
   "source": [
    "TRAIN_NUMBER = 36\n",
    "frames = []\n",
    "for i in range(1, TRAIN_NUMBER+1):\n",
    "    d = pd.read_csv('train_' + str(i) + '.csv', sep=\";\", decimal=',')\n",
    "    frames.append(d)\n",
    "df = pd.concat(frames)"
   ]
  },
  {
   "cell_type": "code",
   "execution_count": null,
   "metadata": {
    "collapsed": true
   },
   "outputs": [],
   "source": [
    "#df = pd.read_csv(\"train_1.csv\",sep=';')\n",
    "for i in range(len(l)):\n",
    "    d = pd.read_csv(l[i] , sep=';',decimal=',')\n",
    "    df = pd.concat([df, d])"
   ]
  },
  {
   "cell_type": "code",
   "execution_count": 69,
   "metadata": {
    "collapsed": false
   },
   "outputs": [
    {
     "data": {
      "text/plain": [
       "(189280, 31)"
      ]
     },
     "execution_count": 69,
     "metadata": {},
     "output_type": "execute_result"
    }
   ],
   "source": [
    "df.shape"
   ]
  },
  {
   "cell_type": "code",
   "execution_count": 70,
   "metadata": {
    "collapsed": false
   },
   "outputs": [
    {
     "data": {
      "text/html": [
       "<div>\n",
       "<style>\n",
       "    .dataframe thead tr:only-child th {\n",
       "        text-align: right;\n",
       "    }\n",
       "\n",
       "    .dataframe thead th {\n",
       "        text-align: left;\n",
       "    }\n",
       "\n",
       "    .dataframe tbody tr th {\n",
       "        vertical-align: top;\n",
       "    }\n",
       "</style>\n",
       "<table border=\"1\" class=\"dataframe\">\n",
       "  <thead>\n",
       "    <tr style=\"text-align: right;\">\n",
       "      <th></th>\n",
       "      <th>date</th>\n",
       "      <th>insee</th>\n",
       "      <th>tH2_obs</th>\n",
       "      <th>capeinsSOL0</th>\n",
       "      <th>ciwcH20</th>\n",
       "      <th>clwcH20</th>\n",
       "      <th>ddH10_rose4</th>\n",
       "      <th>ffH10</th>\n",
       "      <th>flir1SOL0</th>\n",
       "      <th>fllat1SOL0</th>\n",
       "      <th>...</th>\n",
       "      <th>tH2</th>\n",
       "      <th>tH2_VGrad_2.100</th>\n",
       "      <th>tH2_XGrad</th>\n",
       "      <th>tH2_YGrad</th>\n",
       "      <th>tpwHPA850</th>\n",
       "      <th>ux1H10</th>\n",
       "      <th>vapcSOL0</th>\n",
       "      <th>vx1H10</th>\n",
       "      <th>ech</th>\n",
       "      <th>mois</th>\n",
       "    </tr>\n",
       "  </thead>\n",
       "  <tbody>\n",
       "    <tr>\n",
       "      <th>0</th>\n",
       "      <td>2014-01-01</td>\n",
       "      <td>6088001</td>\n",
       "      <td>5.5</td>\n",
       "      <td>0.198757</td>\n",
       "      <td>0.0</td>\n",
       "      <td>0.000000</td>\n",
       "      <td>4.0</td>\n",
       "      <td>1.970260</td>\n",
       "      <td>-386960.595711</td>\n",
       "      <td>-94260.682523</td>\n",
       "      <td>...</td>\n",
       "      <td>9.034338</td>\n",
       "      <td>-0.084999</td>\n",
       "      <td>0.007725</td>\n",
       "      <td>-0.013024</td>\n",
       "      <td>3.852825</td>\n",
       "      <td>1.330320</td>\n",
       "      <td>10.664653</td>\n",
       "      <td>-2.853134</td>\n",
       "      <td>1</td>\n",
       "      <td>janvier</td>\n",
       "    </tr>\n",
       "    <tr>\n",
       "      <th>1</th>\n",
       "      <td>2014-01-01</td>\n",
       "      <td>31069001</td>\n",
       "      <td>4.8</td>\n",
       "      <td>8.590036</td>\n",
       "      <td>0.0</td>\n",
       "      <td>0.000000</td>\n",
       "      <td>3.0</td>\n",
       "      <td>2.755962</td>\n",
       "      <td>-200181.123871</td>\n",
       "      <td>2282.951687</td>\n",
       "      <td>...</td>\n",
       "      <td>3.853128</td>\n",
       "      <td>1.396138</td>\n",
       "      <td>0.005036</td>\n",
       "      <td>0.000810</td>\n",
       "      <td>8.476699</td>\n",
       "      <td>-2.040020</td>\n",
       "      <td>15.462043</td>\n",
       "      <td>3.019614</td>\n",
       "      <td>1</td>\n",
       "      <td>janvier</td>\n",
       "    </tr>\n",
       "    <tr>\n",
       "      <th>2</th>\n",
       "      <td>2014-01-01</td>\n",
       "      <td>33281001</td>\n",
       "      <td>8.9</td>\n",
       "      <td>69.203856</td>\n",
       "      <td>0.0</td>\n",
       "      <td>0.000001</td>\n",
       "      <td>3.0</td>\n",
       "      <td>3.411283</td>\n",
       "      <td>-62310.340297</td>\n",
       "      <td>9483.691316</td>\n",
       "      <td>...</td>\n",
       "      <td>8.585184</td>\n",
       "      <td>0.387329</td>\n",
       "      <td>0.001372</td>\n",
       "      <td>0.000010</td>\n",
       "      <td>7.643070</td>\n",
       "      <td>3.029610</td>\n",
       "      <td>17.343600</td>\n",
       "      <td>4.889849</td>\n",
       "      <td>1</td>\n",
       "      <td>janvier</td>\n",
       "    </tr>\n",
       "    <tr>\n",
       "      <th>3</th>\n",
       "      <td>2014-01-01</td>\n",
       "      <td>35281001</td>\n",
       "      <td>6.8</td>\n",
       "      <td>65.270316</td>\n",
       "      <td>0.0</td>\n",
       "      <td>0.000000</td>\n",
       "      <td>3.0</td>\n",
       "      <td>4.655633</td>\n",
       "      <td>-61612.120075</td>\n",
       "      <td>-48356.475831</td>\n",
       "      <td>...</td>\n",
       "      <td>7.304130</td>\n",
       "      <td>-0.089267</td>\n",
       "      <td>0.000401</td>\n",
       "      <td>-0.000067</td>\n",
       "      <td>7.089030</td>\n",
       "      <td>-1.027446</td>\n",
       "      <td>13.981847</td>\n",
       "      <td>8.079973</td>\n",
       "      <td>1</td>\n",
       "      <td>janvier</td>\n",
       "    </tr>\n",
       "    <tr>\n",
       "      <th>4</th>\n",
       "      <td>2014-01-01</td>\n",
       "      <td>59343001</td>\n",
       "      <td>5.4</td>\n",
       "      <td>5.932505</td>\n",
       "      <td>0.0</td>\n",
       "      <td>0.000000</td>\n",
       "      <td>3.0</td>\n",
       "      <td>5.855930</td>\n",
       "      <td>-39553.109955</td>\n",
       "      <td>-1022.914242</td>\n",
       "      <td>...</td>\n",
       "      <td>5.829715</td>\n",
       "      <td>-0.489606</td>\n",
       "      <td>0.000204</td>\n",
       "      <td>-0.000191</td>\n",
       "      <td>4.546075</td>\n",
       "      <td>2.802554</td>\n",
       "      <td>9.941609</td>\n",
       "      <td>7.955489</td>\n",
       "      <td>1</td>\n",
       "      <td>janvier</td>\n",
       "    </tr>\n",
       "  </tbody>\n",
       "</table>\n",
       "<p>5 rows × 31 columns</p>\n",
       "</div>"
      ],
      "text/plain": [
       "         date     insee  tH2_obs  capeinsSOL0  ciwcH20   clwcH20 ddH10_rose4  \\\n",
       "0  2014-01-01   6088001      5.5     0.198757      0.0  0.000000         4.0   \n",
       "1  2014-01-01  31069001      4.8     8.590036      0.0  0.000000         3.0   \n",
       "2  2014-01-01  33281001      8.9    69.203856      0.0  0.000001         3.0   \n",
       "3  2014-01-01  35281001      6.8    65.270316      0.0  0.000000         3.0   \n",
       "4  2014-01-01  59343001      5.4     5.932505      0.0  0.000000         3.0   \n",
       "\n",
       "      ffH10      flir1SOL0    fllat1SOL0   ...          tH2 tH2_VGrad_2.100  \\\n",
       "0  1.970260 -386960.595711 -94260.682523   ...     9.034338       -0.084999   \n",
       "1  2.755962 -200181.123871   2282.951687   ...     3.853128        1.396138   \n",
       "2  3.411283  -62310.340297   9483.691316   ...     8.585184        0.387329   \n",
       "3  4.655633  -61612.120075 -48356.475831   ...     7.304130       -0.089267   \n",
       "4  5.855930  -39553.109955  -1022.914242   ...     5.829715       -0.489606   \n",
       "\n",
       "   tH2_XGrad  tH2_YGrad  tpwHPA850    ux1H10   vapcSOL0    vx1H10  ech  \\\n",
       "0   0.007725  -0.013024   3.852825  1.330320  10.664653 -2.853134    1   \n",
       "1   0.005036   0.000810   8.476699 -2.040020  15.462043  3.019614    1   \n",
       "2   0.001372   0.000010   7.643070  3.029610  17.343600  4.889849    1   \n",
       "3   0.000401  -0.000067   7.089030 -1.027446  13.981847  8.079973    1   \n",
       "4   0.000204  -0.000191   4.546075  2.802554   9.941609  7.955489    1   \n",
       "\n",
       "      mois  \n",
       "0  janvier  \n",
       "1  janvier  \n",
       "2  janvier  \n",
       "3  janvier  \n",
       "4  janvier  \n",
       "\n",
       "[5 rows x 31 columns]"
      ]
     },
     "execution_count": 70,
     "metadata": {},
     "output_type": "execute_result"
    }
   ],
   "source": [
    "df.head()"
   ]
  },
  {
   "cell_type": "code",
   "execution_count": 71,
   "metadata": {
    "collapsed": true
   },
   "outputs": [],
   "source": [
    "df = df.replace(np.nan,0)\n",
    "y_train = df['tH2_obs']"
   ]
  },
  {
   "cell_type": "code",
   "execution_count": 72,
   "metadata": {
    "collapsed": true
   },
   "outputs": [],
   "source": [
    "\n",
    "df = df.drop('tH2_obs', 1)"
   ]
  },
  {
   "cell_type": "code",
   "execution_count": null,
   "metadata": {
    "collapsed": true
   },
   "outputs": [],
   "source": []
  },
  {
   "cell_type": "code",
   "execution_count": 73,
   "metadata": {
    "collapsed": false
   },
   "outputs": [
    {
     "data": {
      "text/html": [
       "<div>\n",
       "<style>\n",
       "    .dataframe thead tr:only-child th {\n",
       "        text-align: right;\n",
       "    }\n",
       "\n",
       "    .dataframe thead th {\n",
       "        text-align: left;\n",
       "    }\n",
       "\n",
       "    .dataframe tbody tr th {\n",
       "        vertical-align: top;\n",
       "    }\n",
       "</style>\n",
       "<table border=\"1\" class=\"dataframe\">\n",
       "  <thead>\n",
       "    <tr style=\"text-align: right;\">\n",
       "      <th></th>\n",
       "      <th>date</th>\n",
       "      <th>insee</th>\n",
       "      <th>capeinsSOL0</th>\n",
       "      <th>ciwcH20</th>\n",
       "      <th>clwcH20</th>\n",
       "      <th>ddH10_rose4</th>\n",
       "      <th>ffH10</th>\n",
       "      <th>flir1SOL0</th>\n",
       "      <th>fllat1SOL0</th>\n",
       "      <th>flsen1SOL0</th>\n",
       "      <th>...</th>\n",
       "      <th>tH2</th>\n",
       "      <th>tH2_VGrad_2.100</th>\n",
       "      <th>tH2_XGrad</th>\n",
       "      <th>tH2_YGrad</th>\n",
       "      <th>tpwHPA850</th>\n",
       "      <th>ux1H10</th>\n",
       "      <th>vapcSOL0</th>\n",
       "      <th>vx1H10</th>\n",
       "      <th>ech</th>\n",
       "      <th>mois</th>\n",
       "    </tr>\n",
       "  </thead>\n",
       "  <tbody>\n",
       "    <tr>\n",
       "      <th>0</th>\n",
       "      <td>2014-01-01</td>\n",
       "      <td>6088001</td>\n",
       "      <td>0.198757</td>\n",
       "      <td>0.0</td>\n",
       "      <td>0.000000</td>\n",
       "      <td>4.0</td>\n",
       "      <td>1.970260</td>\n",
       "      <td>-386960.595711</td>\n",
       "      <td>-94260.682523</td>\n",
       "      <td>-40545.510054</td>\n",
       "      <td>...</td>\n",
       "      <td>9.034338</td>\n",
       "      <td>-0.084999</td>\n",
       "      <td>0.007725</td>\n",
       "      <td>-0.013024</td>\n",
       "      <td>3.852825</td>\n",
       "      <td>1.330320</td>\n",
       "      <td>10.664653</td>\n",
       "      <td>-2.853134</td>\n",
       "      <td>1</td>\n",
       "      <td>janvier</td>\n",
       "    </tr>\n",
       "    <tr>\n",
       "      <th>1</th>\n",
       "      <td>2014-01-01</td>\n",
       "      <td>31069001</td>\n",
       "      <td>8.590036</td>\n",
       "      <td>0.0</td>\n",
       "      <td>0.000000</td>\n",
       "      <td>3.0</td>\n",
       "      <td>2.755962</td>\n",
       "      <td>-200181.123871</td>\n",
       "      <td>2282.951687</td>\n",
       "      <td>14399.918192</td>\n",
       "      <td>...</td>\n",
       "      <td>3.853128</td>\n",
       "      <td>1.396138</td>\n",
       "      <td>0.005036</td>\n",
       "      <td>0.000810</td>\n",
       "      <td>8.476699</td>\n",
       "      <td>-2.040020</td>\n",
       "      <td>15.462043</td>\n",
       "      <td>3.019614</td>\n",
       "      <td>1</td>\n",
       "      <td>janvier</td>\n",
       "    </tr>\n",
       "    <tr>\n",
       "      <th>2</th>\n",
       "      <td>2014-01-01</td>\n",
       "      <td>33281001</td>\n",
       "      <td>69.203856</td>\n",
       "      <td>0.0</td>\n",
       "      <td>0.000001</td>\n",
       "      <td>3.0</td>\n",
       "      <td>3.411283</td>\n",
       "      <td>-62310.340297</td>\n",
       "      <td>9483.691316</td>\n",
       "      <td>64790.365136</td>\n",
       "      <td>...</td>\n",
       "      <td>8.585184</td>\n",
       "      <td>0.387329</td>\n",
       "      <td>0.001372</td>\n",
       "      <td>0.000010</td>\n",
       "      <td>7.643070</td>\n",
       "      <td>3.029610</td>\n",
       "      <td>17.343600</td>\n",
       "      <td>4.889849</td>\n",
       "      <td>1</td>\n",
       "      <td>janvier</td>\n",
       "    </tr>\n",
       "    <tr>\n",
       "      <th>3</th>\n",
       "      <td>2014-01-01</td>\n",
       "      <td>35281001</td>\n",
       "      <td>65.270316</td>\n",
       "      <td>0.0</td>\n",
       "      <td>0.000000</td>\n",
       "      <td>3.0</td>\n",
       "      <td>4.655633</td>\n",
       "      <td>-61612.120075</td>\n",
       "      <td>-48356.475831</td>\n",
       "      <td>127450.659115</td>\n",
       "      <td>...</td>\n",
       "      <td>7.304130</td>\n",
       "      <td>-0.089267</td>\n",
       "      <td>0.000401</td>\n",
       "      <td>-0.000067</td>\n",
       "      <td>7.089030</td>\n",
       "      <td>-1.027446</td>\n",
       "      <td>13.981847</td>\n",
       "      <td>8.079973</td>\n",
       "      <td>1</td>\n",
       "      <td>janvier</td>\n",
       "    </tr>\n",
       "    <tr>\n",
       "      <th>4</th>\n",
       "      <td>2014-01-01</td>\n",
       "      <td>59343001</td>\n",
       "      <td>5.932505</td>\n",
       "      <td>0.0</td>\n",
       "      <td>0.000000</td>\n",
       "      <td>3.0</td>\n",
       "      <td>5.855930</td>\n",
       "      <td>-39553.109955</td>\n",
       "      <td>-1022.914242</td>\n",
       "      <td>117800.171480</td>\n",
       "      <td>...</td>\n",
       "      <td>5.829715</td>\n",
       "      <td>-0.489606</td>\n",
       "      <td>0.000204</td>\n",
       "      <td>-0.000191</td>\n",
       "      <td>4.546075</td>\n",
       "      <td>2.802554</td>\n",
       "      <td>9.941609</td>\n",
       "      <td>7.955489</td>\n",
       "      <td>1</td>\n",
       "      <td>janvier</td>\n",
       "    </tr>\n",
       "  </tbody>\n",
       "</table>\n",
       "<p>5 rows × 30 columns</p>\n",
       "</div>"
      ],
      "text/plain": [
       "         date     insee  capeinsSOL0  ciwcH20   clwcH20 ddH10_rose4     ffH10  \\\n",
       "0  2014-01-01   6088001     0.198757      0.0  0.000000         4.0  1.970260   \n",
       "1  2014-01-01  31069001     8.590036      0.0  0.000000         3.0  2.755962   \n",
       "2  2014-01-01  33281001    69.203856      0.0  0.000001         3.0  3.411283   \n",
       "3  2014-01-01  35281001    65.270316      0.0  0.000000         3.0  4.655633   \n",
       "4  2014-01-01  59343001     5.932505      0.0  0.000000         3.0  5.855930   \n",
       "\n",
       "       flir1SOL0    fllat1SOL0     flsen1SOL0   ...          tH2  \\\n",
       "0 -386960.595711 -94260.682523  -40545.510054   ...     9.034338   \n",
       "1 -200181.123871   2282.951687   14399.918192   ...     3.853128   \n",
       "2  -62310.340297   9483.691316   64790.365136   ...     8.585184   \n",
       "3  -61612.120075 -48356.475831  127450.659115   ...     7.304130   \n",
       "4  -39553.109955  -1022.914242  117800.171480   ...     5.829715   \n",
       "\n",
       "   tH2_VGrad_2.100  tH2_XGrad  tH2_YGrad  tpwHPA850    ux1H10   vapcSOL0  \\\n",
       "0        -0.084999   0.007725  -0.013024   3.852825  1.330320  10.664653   \n",
       "1         1.396138   0.005036   0.000810   8.476699 -2.040020  15.462043   \n",
       "2         0.387329   0.001372   0.000010   7.643070  3.029610  17.343600   \n",
       "3        -0.089267   0.000401  -0.000067   7.089030 -1.027446  13.981847   \n",
       "4        -0.489606   0.000204  -0.000191   4.546075  2.802554   9.941609   \n",
       "\n",
       "     vx1H10  ech     mois  \n",
       "0 -2.853134    1  janvier  \n",
       "1  3.019614    1  janvier  \n",
       "2  4.889849    1  janvier  \n",
       "3  8.079973    1  janvier  \n",
       "4  7.955489    1  janvier  \n",
       "\n",
       "[5 rows x 30 columns]"
      ]
     },
     "execution_count": 73,
     "metadata": {},
     "output_type": "execute_result"
    }
   ],
   "source": [
    "df.head()"
   ]
  },
  {
   "cell_type": "code",
   "execution_count": 10,
   "metadata": {
    "collapsed": true
   },
   "outputs": [],
   "source": [
    "df.to_csv(\"Data_Golbal.csv\",sep=';')"
   ]
  },
  {
   "cell_type": "code",
   "execution_count": 11,
   "metadata": {
    "collapsed": true
   },
   "outputs": [],
   "source": [
    "df.to_csv(\"y_global.csv\", sep=';')"
   ]
  },
  {
   "cell_type": "code",
   "execution_count": 74,
   "metadata": {
    "collapsed": true
   },
   "outputs": [],
   "source": [
    "df_res = df"
   ]
  },
  {
   "cell_type": "markdown",
   "metadata": {
    "collapsed": true
   },
   "source": [
    "## Visualisation Data"
   ]
  },
  {
   "cell_type": "code",
   "execution_count": 75,
   "metadata": {
    "collapsed": true
   },
   "outputs": [],
   "source": [
    "n,m = df.shape"
   ]
  },
  {
   "cell_type": "code",
   "execution_count": 76,
   "metadata": {
    "collapsed": false
   },
   "outputs": [
    {
     "data": {
      "text/plain": [
       "date               0.0\n",
       "insee              0.0\n",
       "capeinsSOL0        0.0\n",
       "ciwcH20            0.0\n",
       "clwcH20            0.0\n",
       "ddH10_rose4        0.0\n",
       "ffH10              0.0\n",
       "flir1SOL0          0.0\n",
       "fllat1SOL0         0.0\n",
       "flsen1SOL0         0.0\n",
       "flvis1SOL0         0.0\n",
       "hcoulimSOL0        0.0\n",
       "huH2               0.0\n",
       "iwcSOL0            0.0\n",
       "nbSOL0_HMoy        0.0\n",
       "nH20               0.0\n",
       "ntSOL0_HMoy        0.0\n",
       "pMER0              0.0\n",
       "rr1SOL0            0.0\n",
       "rrH20              0.0\n",
       "tH2                0.0\n",
       "tH2_VGrad_2.100    0.0\n",
       "tH2_XGrad          0.0\n",
       "tH2_YGrad          0.0\n",
       "tpwHPA850          0.0\n",
       "ux1H10             0.0\n",
       "vapcSOL0           0.0\n",
       "vx1H10             0.0\n",
       "ech                0.0\n",
       "mois               0.0\n",
       "dtype: float64"
      ]
     },
     "execution_count": 76,
     "metadata": {},
     "output_type": "execute_result"
    }
   ],
   "source": [
    "df.isnull().sum()/n"
   ]
  },
  {
   "cell_type": "code",
   "execution_count": 77,
   "metadata": {
    "collapsed": true
   },
   "outputs": [],
   "source": [
    "X=df\n",
    "x_var_names = X.columns\n",
    "x_types = {x_var_name: X[x_var_name].dtype for x_var_name in x_var_names}"
   ]
  },
  {
   "cell_type": "code",
   "execution_count": 16,
   "metadata": {
    "collapsed": true
   },
   "outputs": [],
   "source": [
    "df = df.replace(np.nan,0)"
   ]
  },
  {
   "cell_type": "code",
   "execution_count": 17,
   "metadata": {
    "collapsed": false
   },
   "outputs": [
    {
     "data": {
      "text/plain": [
       "date               0\n",
       "insee              0\n",
       "capeinsSOL0        0\n",
       "ciwcH20            0\n",
       "clwcH20            0\n",
       "ddH10_rose4        0\n",
       "ffH10              0\n",
       "flir1SOL0          0\n",
       "fllat1SOL0         0\n",
       "flsen1SOL0         0\n",
       "flvis1SOL0         0\n",
       "hcoulimSOL0        0\n",
       "huH2               0\n",
       "iwcSOL0            0\n",
       "nbSOL0_HMoy        0\n",
       "nH20               0\n",
       "ntSOL0_HMoy        0\n",
       "pMER0              0\n",
       "rr1SOL0            0\n",
       "rrH20              0\n",
       "tH2                0\n",
       "tH2_VGrad_2.100    0\n",
       "tH2_XGrad          0\n",
       "tH2_YGrad          0\n",
       "tpwHPA850          0\n",
       "ux1H10             0\n",
       "vapcSOL0           0\n",
       "vx1H10             0\n",
       "ech                0\n",
       "mois               0\n",
       "dtype: int64"
      ]
     },
     "execution_count": 17,
     "metadata": {},
     "output_type": "execute_result"
    }
   ],
   "source": [
    "df.isnull().sum()"
   ]
  },
  {
   "cell_type": "code",
   "execution_count": 18,
   "metadata": {
    "collapsed": true
   },
   "outputs": [],
   "source": [
    "df = pd.get_dummies(data = df,columns = ['mois'])"
   ]
  },
  {
   "cell_type": "code",
   "execution_count": 78,
   "metadata": {
    "collapsed": false
   },
   "outputs": [],
   "source": [
    "df1 = df\n",
    "df1 = df1.drop('date',1)\n",
    "df1 = df1.drop('flvis1SOL0',1)\n",
    "df1 = df1.drop('mois',1)"
   ]
  },
  {
   "cell_type": "code",
   "execution_count": 55,
   "metadata": {
    "collapsed": false
   },
   "outputs": [],
   "source": [
    "df1 = df1.drop('date',1)\n"
   ]
  },
  {
   "cell_type": "code",
   "execution_count": 79,
   "metadata": {
    "collapsed": true
   },
   "outputs": [],
   "source": [
    "df1['ddH10_rose4'] = pd.to_numeric(df1['ddH10_rose4'])\n"
   ]
  },
  {
   "cell_type": "code",
   "execution_count": 80,
   "metadata": {
    "collapsed": true
   },
   "outputs": [],
   "source": [
    "from sklearn import linear_model\n",
    "regr = linear_model.LinearRegression()"
   ]
  },
  {
   "cell_type": "code",
   "execution_count": 81,
   "metadata": {
    "collapsed": false
   },
   "outputs": [
    {
     "data": {
      "text/plain": [
       "LinearRegression(copy_X=True, fit_intercept=True, n_jobs=1, normalize=False)"
      ]
     },
     "execution_count": 81,
     "metadata": {},
     "output_type": "execute_result"
    }
   ],
   "source": [
    "# Train the model using the training sets\n",
    "regr.fit(df1.values, y_train.values)"
   ]
  },
  {
   "cell_type": "code",
   "execution_count": 82,
   "metadata": {
    "collapsed": true
   },
   "outputs": [],
   "source": [
    "test = pd.read_csv('test.csv', sep=';',decimal=',')"
   ]
  },
  {
   "cell_type": "code",
   "execution_count": null,
   "metadata": {
    "collapsed": true
   },
   "outputs": [],
   "source": []
  },
  {
   "cell_type": "code",
   "execution_count": null,
   "metadata": {
    "collapsed": true
   },
   "outputs": [],
   "source": []
  },
  {
   "cell_type": "code",
   "execution_count": null,
   "metadata": {
    "collapsed": true
   },
   "outputs": [],
   "source": []
  },
  {
   "cell_type": "code",
   "execution_count": null,
   "metadata": {
    "collapsed": true
   },
   "outputs": [],
   "source": []
  },
  {
   "cell_type": "code",
   "execution_count": null,
   "metadata": {
    "collapsed": true
   },
   "outputs": [],
   "source": [
    "test"
   ]
  },
  {
   "cell_type": "code",
   "execution_count": 83,
   "metadata": {
    "collapsed": false
   },
   "outputs": [],
   "source": [
    "test = test.drop('date',1)\n",
    "test = test.drop('flvis1SOL0',1)\n",
    "test = test.drop('mois',1)"
   ]
  },
  {
   "cell_type": "code",
   "execution_count": 84,
   "metadata": {
    "collapsed": true
   },
   "outputs": [],
   "source": [
    "test['ddH10_rose4'] = pd.to_numeric(test['ddH10_rose4'])"
   ]
  },
  {
   "cell_type": "code",
   "execution_count": 87,
   "metadata": {
    "collapsed": false
   },
   "outputs": [],
   "source": [
    "#test = pd.get_dummies(data = test,columns = ['mois'])\n",
    "pred = regr.predict(test)"
   ]
  },
  {
   "cell_type": "code",
   "execution_count": 85,
   "metadata": {
    "collapsed": true
   },
   "outputs": [],
   "source": [
    "test = test.replace(np.nan,0)"
   ]
  },
  {
   "cell_type": "code",
   "execution_count": 86,
   "metadata": {
    "collapsed": false
   },
   "outputs": [
    {
     "data": {
      "text/plain": [
       "insee              0\n",
       "capeinsSOL0        0\n",
       "ciwcH20            0\n",
       "clwcH20            0\n",
       "ddH10_rose4        0\n",
       "ffH10              0\n",
       "flir1SOL0          0\n",
       "fllat1SOL0         0\n",
       "flsen1SOL0         0\n",
       "hcoulimSOL0        0\n",
       "huH2               0\n",
       "iwcSOL0            0\n",
       "nbSOL0_HMoy        0\n",
       "nH20               0\n",
       "ntSOL0_HMoy        0\n",
       "pMER0              0\n",
       "rr1SOL0            0\n",
       "rrH20              0\n",
       "tH2                0\n",
       "tH2_VGrad_2.100    0\n",
       "tH2_XGrad          0\n",
       "tH2_YGrad          0\n",
       "tpwHPA850          0\n",
       "ux1H10             0\n",
       "vapcSOL0           0\n",
       "vx1H10             0\n",
       "ech                0\n",
       "dtype: int64"
      ]
     },
     "execution_count": 86,
     "metadata": {},
     "output_type": "execute_result"
    }
   ],
   "source": [
    "test.isnull().sum()"
   ]
  },
  {
   "cell_type": "code",
   "execution_count": 88,
   "metadata": {
    "collapsed": false
   },
   "outputs": [
    {
     "ename": "NameError",
     "evalue": "name 'mean_squared_error' is not defined",
     "output_type": "error",
     "traceback": [
      "\u001b[0;31m---------------------------------------------------------------------------\u001b[0m",
      "\u001b[0;31mNameError\u001b[0m                                 Traceback (most recent call last)",
      "\u001b[0;32m<ipython-input-88-ff1d49dd35ac>\u001b[0m in \u001b[0;36m<module>\u001b[0;34m()\u001b[0m\n\u001b[1;32m      1\u001b[0m print(\"Mean squared error: %.2f\"\n\u001b[0;32m----> 2\u001b[0;31m       % mean_squared_error(y_test, pred))\n\u001b[0m",
      "\u001b[0;31mNameError\u001b[0m: name 'mean_squared_error' is not defined"
     ]
    }
   ],
   "source": [
    "print(\"Mean squared error: %.2f\"\n",
    "      % mean_squared_error(y_test, pred))"
   ]
  },
  {
   "cell_type": "code",
   "execution_count": 89,
   "metadata": {
    "collapsed": false
   },
   "outputs": [
    {
     "data": {
      "text/plain": [
       "21168"
      ]
     },
     "execution_count": 89,
     "metadata": {},
     "output_type": "execute_result"
    }
   ],
   "source": [
    "pred\n",
    "len(pred)"
   ]
  },
  {
   "cell_type": "code",
   "execution_count": null,
   "metadata": {
    "collapsed": true
   },
   "outputs": [],
   "source": []
  },
  {
   "cell_type": "code",
   "execution_count": 90,
   "metadata": {
    "collapsed": true
   },
   "outputs": [],
   "source": [
    "t = pd.read_csv('test_answer_template.csv', sep=';',decimal=',')"
   ]
  },
  {
   "cell_type": "code",
   "execution_count": 91,
   "metadata": {
    "collapsed": true
   },
   "outputs": [],
   "source": [
    "t['tH2_obs']=pred"
   ]
  },
  {
   "cell_type": "code",
   "execution_count": 92,
   "metadata": {
    "collapsed": false
   },
   "outputs": [
    {
     "data": {
      "text/plain": [
       "array([ 18.53762393,  13.04276864,  11.99017848, ...,  23.4310715 ,\n",
       "        22.63003944,  22.95154673])"
      ]
     },
     "execution_count": 92,
     "metadata": {},
     "output_type": "execute_result"
    }
   ],
   "source": [
    "pred"
   ]
  },
  {
   "cell_type": "code",
   "execution_count": 93,
   "metadata": {
    "collapsed": false
   },
   "outputs": [
    {
     "data": {
      "text/html": [
       "<div>\n",
       "<style>\n",
       "    .dataframe thead tr:only-child th {\n",
       "        text-align: right;\n",
       "    }\n",
       "\n",
       "    .dataframe thead th {\n",
       "        text-align: left;\n",
       "    }\n",
       "\n",
       "    .dataframe tbody tr th {\n",
       "        vertical-align: top;\n",
       "    }\n",
       "</style>\n",
       "<table border=\"1\" class=\"dataframe\">\n",
       "  <thead>\n",
       "    <tr style=\"text-align: right;\">\n",
       "      <th></th>\n",
       "      <th>date</th>\n",
       "      <th>insee</th>\n",
       "      <th>ech</th>\n",
       "      <th>tH2_obs</th>\n",
       "    </tr>\n",
       "  </thead>\n",
       "  <tbody>\n",
       "    <tr>\n",
       "      <th>0</th>\n",
       "      <td>20/06/16</td>\n",
       "      <td>6088001</td>\n",
       "      <td>1</td>\n",
       "      <td>18.537624</td>\n",
       "    </tr>\n",
       "    <tr>\n",
       "      <th>1</th>\n",
       "      <td>20/06/16</td>\n",
       "      <td>31069001</td>\n",
       "      <td>1</td>\n",
       "      <td>13.042769</td>\n",
       "    </tr>\n",
       "    <tr>\n",
       "      <th>2</th>\n",
       "      <td>20/06/16</td>\n",
       "      <td>33281001</td>\n",
       "      <td>1</td>\n",
       "      <td>11.990178</td>\n",
       "    </tr>\n",
       "    <tr>\n",
       "      <th>3</th>\n",
       "      <td>20/06/16</td>\n",
       "      <td>35281001</td>\n",
       "      <td>1</td>\n",
       "      <td>14.882143</td>\n",
       "    </tr>\n",
       "    <tr>\n",
       "      <th>4</th>\n",
       "      <td>20/06/16</td>\n",
       "      <td>59343001</td>\n",
       "      <td>1</td>\n",
       "      <td>14.242323</td>\n",
       "    </tr>\n",
       "    <tr>\n",
       "      <th>5</th>\n",
       "      <td>20/06/16</td>\n",
       "      <td>67124001</td>\n",
       "      <td>1</td>\n",
       "      <td>10.706104</td>\n",
       "    </tr>\n",
       "    <tr>\n",
       "      <th>6</th>\n",
       "      <td>20/06/16</td>\n",
       "      <td>75114001</td>\n",
       "      <td>1</td>\n",
       "      <td>17.750363</td>\n",
       "    </tr>\n",
       "    <tr>\n",
       "      <th>7</th>\n",
       "      <td>21/06/16</td>\n",
       "      <td>6088001</td>\n",
       "      <td>1</td>\n",
       "      <td>18.684455</td>\n",
       "    </tr>\n",
       "    <tr>\n",
       "      <th>8</th>\n",
       "      <td>21/06/16</td>\n",
       "      <td>31069001</td>\n",
       "      <td>1</td>\n",
       "      <td>15.831139</td>\n",
       "    </tr>\n",
       "    <tr>\n",
       "      <th>9</th>\n",
       "      <td>21/06/16</td>\n",
       "      <td>33281001</td>\n",
       "      <td>1</td>\n",
       "      <td>14.651365</td>\n",
       "    </tr>\n",
       "    <tr>\n",
       "      <th>10</th>\n",
       "      <td>21/06/16</td>\n",
       "      <td>35281001</td>\n",
       "      <td>1</td>\n",
       "      <td>15.731673</td>\n",
       "    </tr>\n",
       "    <tr>\n",
       "      <th>11</th>\n",
       "      <td>21/06/16</td>\n",
       "      <td>59343001</td>\n",
       "      <td>1</td>\n",
       "      <td>14.149017</td>\n",
       "    </tr>\n",
       "    <tr>\n",
       "      <th>12</th>\n",
       "      <td>21/06/16</td>\n",
       "      <td>67124001</td>\n",
       "      <td>1</td>\n",
       "      <td>14.222036</td>\n",
       "    </tr>\n",
       "    <tr>\n",
       "      <th>13</th>\n",
       "      <td>21/06/16</td>\n",
       "      <td>75114001</td>\n",
       "      <td>1</td>\n",
       "      <td>16.148315</td>\n",
       "    </tr>\n",
       "    <tr>\n",
       "      <th>14</th>\n",
       "      <td>22/06/16</td>\n",
       "      <td>6088001</td>\n",
       "      <td>1</td>\n",
       "      <td>18.796226</td>\n",
       "    </tr>\n",
       "    <tr>\n",
       "      <th>15</th>\n",
       "      <td>22/06/16</td>\n",
       "      <td>31069001</td>\n",
       "      <td>1</td>\n",
       "      <td>19.954353</td>\n",
       "    </tr>\n",
       "    <tr>\n",
       "      <th>16</th>\n",
       "      <td>22/06/16</td>\n",
       "      <td>33281001</td>\n",
       "      <td>1</td>\n",
       "      <td>19.795159</td>\n",
       "    </tr>\n",
       "    <tr>\n",
       "      <th>17</th>\n",
       "      <td>22/06/16</td>\n",
       "      <td>35281001</td>\n",
       "      <td>1</td>\n",
       "      <td>17.850240</td>\n",
       "    </tr>\n",
       "    <tr>\n",
       "      <th>18</th>\n",
       "      <td>22/06/16</td>\n",
       "      <td>59343001</td>\n",
       "      <td>1</td>\n",
       "      <td>13.994480</td>\n",
       "    </tr>\n",
       "    <tr>\n",
       "      <th>19</th>\n",
       "      <td>22/06/16</td>\n",
       "      <td>67124001</td>\n",
       "      <td>1</td>\n",
       "      <td>16.002687</td>\n",
       "    </tr>\n",
       "    <tr>\n",
       "      <th>20</th>\n",
       "      <td>22/06/16</td>\n",
       "      <td>75114001</td>\n",
       "      <td>1</td>\n",
       "      <td>19.301977</td>\n",
       "    </tr>\n",
       "    <tr>\n",
       "      <th>21</th>\n",
       "      <td>23/06/16</td>\n",
       "      <td>6088001</td>\n",
       "      <td>1</td>\n",
       "      <td>23.119421</td>\n",
       "    </tr>\n",
       "    <tr>\n",
       "      <th>22</th>\n",
       "      <td>23/06/16</td>\n",
       "      <td>31069001</td>\n",
       "      <td>1</td>\n",
       "      <td>21.719494</td>\n",
       "    </tr>\n",
       "    <tr>\n",
       "      <th>23</th>\n",
       "      <td>23/06/16</td>\n",
       "      <td>33281001</td>\n",
       "      <td>1</td>\n",
       "      <td>22.252181</td>\n",
       "    </tr>\n",
       "    <tr>\n",
       "      <th>24</th>\n",
       "      <td>23/06/16</td>\n",
       "      <td>35281001</td>\n",
       "      <td>1</td>\n",
       "      <td>20.655540</td>\n",
       "    </tr>\n",
       "    <tr>\n",
       "      <th>25</th>\n",
       "      <td>23/06/16</td>\n",
       "      <td>59343001</td>\n",
       "      <td>1</td>\n",
       "      <td>19.987201</td>\n",
       "    </tr>\n",
       "    <tr>\n",
       "      <th>26</th>\n",
       "      <td>23/06/16</td>\n",
       "      <td>67124001</td>\n",
       "      <td>1</td>\n",
       "      <td>17.704295</td>\n",
       "    </tr>\n",
       "    <tr>\n",
       "      <th>27</th>\n",
       "      <td>23/06/16</td>\n",
       "      <td>75114001</td>\n",
       "      <td>1</td>\n",
       "      <td>23.737604</td>\n",
       "    </tr>\n",
       "    <tr>\n",
       "      <th>28</th>\n",
       "      <td>24/06/16</td>\n",
       "      <td>6088001</td>\n",
       "      <td>1</td>\n",
       "      <td>26.003995</td>\n",
       "    </tr>\n",
       "    <tr>\n",
       "      <th>29</th>\n",
       "      <td>24/06/16</td>\n",
       "      <td>31069001</td>\n",
       "      <td>1</td>\n",
       "      <td>19.007138</td>\n",
       "    </tr>\n",
       "    <tr>\n",
       "      <th>...</th>\n",
       "      <td>...</td>\n",
       "      <td>...</td>\n",
       "      <td>...</td>\n",
       "      <td>...</td>\n",
       "    </tr>\n",
       "    <tr>\n",
       "      <th>21138</th>\n",
       "      <td>17/05/17</td>\n",
       "      <td>67124001</td>\n",
       "      <td>36</td>\n",
       "      <td>23.268433</td>\n",
       "    </tr>\n",
       "    <tr>\n",
       "      <th>21139</th>\n",
       "      <td>17/05/17</td>\n",
       "      <td>75114001</td>\n",
       "      <td>36</td>\n",
       "      <td>14.853025</td>\n",
       "    </tr>\n",
       "    <tr>\n",
       "      <th>21140</th>\n",
       "      <td>18/05/17</td>\n",
       "      <td>6088001</td>\n",
       "      <td>36</td>\n",
       "      <td>18.413261</td>\n",
       "    </tr>\n",
       "    <tr>\n",
       "      <th>21141</th>\n",
       "      <td>18/05/17</td>\n",
       "      <td>31069001</td>\n",
       "      <td>36</td>\n",
       "      <td>16.607262</td>\n",
       "    </tr>\n",
       "    <tr>\n",
       "      <th>21142</th>\n",
       "      <td>18/05/17</td>\n",
       "      <td>33281001</td>\n",
       "      <td>36</td>\n",
       "      <td>16.419635</td>\n",
       "    </tr>\n",
       "    <tr>\n",
       "      <th>21143</th>\n",
       "      <td>18/05/17</td>\n",
       "      <td>35281001</td>\n",
       "      <td>36</td>\n",
       "      <td>15.541399</td>\n",
       "    </tr>\n",
       "    <tr>\n",
       "      <th>21144</th>\n",
       "      <td>18/05/17</td>\n",
       "      <td>59343001</td>\n",
       "      <td>36</td>\n",
       "      <td>12.127883</td>\n",
       "    </tr>\n",
       "    <tr>\n",
       "      <th>21145</th>\n",
       "      <td>18/05/17</td>\n",
       "      <td>67124001</td>\n",
       "      <td>36</td>\n",
       "      <td>13.382579</td>\n",
       "    </tr>\n",
       "    <tr>\n",
       "      <th>21146</th>\n",
       "      <td>18/05/17</td>\n",
       "      <td>75114001</td>\n",
       "      <td>36</td>\n",
       "      <td>15.709207</td>\n",
       "    </tr>\n",
       "    <tr>\n",
       "      <th>21147</th>\n",
       "      <td>19/05/17</td>\n",
       "      <td>6088001</td>\n",
       "      <td>36</td>\n",
       "      <td>20.666301</td>\n",
       "    </tr>\n",
       "    <tr>\n",
       "      <th>21148</th>\n",
       "      <td>19/05/17</td>\n",
       "      <td>31069001</td>\n",
       "      <td>36</td>\n",
       "      <td>20.333808</td>\n",
       "    </tr>\n",
       "    <tr>\n",
       "      <th>21149</th>\n",
       "      <td>19/05/17</td>\n",
       "      <td>33281001</td>\n",
       "      <td>36</td>\n",
       "      <td>18.078672</td>\n",
       "    </tr>\n",
       "    <tr>\n",
       "      <th>21150</th>\n",
       "      <td>19/05/17</td>\n",
       "      <td>35281001</td>\n",
       "      <td>36</td>\n",
       "      <td>15.143683</td>\n",
       "    </tr>\n",
       "    <tr>\n",
       "      <th>21151</th>\n",
       "      <td>19/05/17</td>\n",
       "      <td>59343001</td>\n",
       "      <td>36</td>\n",
       "      <td>16.053434</td>\n",
       "    </tr>\n",
       "    <tr>\n",
       "      <th>21152</th>\n",
       "      <td>19/05/17</td>\n",
       "      <td>67124001</td>\n",
       "      <td>36</td>\n",
       "      <td>16.262036</td>\n",
       "    </tr>\n",
       "    <tr>\n",
       "      <th>21153</th>\n",
       "      <td>19/05/17</td>\n",
       "      <td>75114001</td>\n",
       "      <td>36</td>\n",
       "      <td>14.990210</td>\n",
       "    </tr>\n",
       "    <tr>\n",
       "      <th>21154</th>\n",
       "      <td>20/05/17</td>\n",
       "      <td>6088001</td>\n",
       "      <td>36</td>\n",
       "      <td>21.108915</td>\n",
       "    </tr>\n",
       "    <tr>\n",
       "      <th>21155</th>\n",
       "      <td>20/05/17</td>\n",
       "      <td>31069001</td>\n",
       "      <td>36</td>\n",
       "      <td>23.387304</td>\n",
       "    </tr>\n",
       "    <tr>\n",
       "      <th>21156</th>\n",
       "      <td>20/05/17</td>\n",
       "      <td>33281001</td>\n",
       "      <td>36</td>\n",
       "      <td>22.487260</td>\n",
       "    </tr>\n",
       "    <tr>\n",
       "      <th>21157</th>\n",
       "      <td>20/05/17</td>\n",
       "      <td>35281001</td>\n",
       "      <td>36</td>\n",
       "      <td>19.184045</td>\n",
       "    </tr>\n",
       "    <tr>\n",
       "      <th>21158</th>\n",
       "      <td>20/05/17</td>\n",
       "      <td>59343001</td>\n",
       "      <td>36</td>\n",
       "      <td>18.839810</td>\n",
       "    </tr>\n",
       "    <tr>\n",
       "      <th>21159</th>\n",
       "      <td>20/05/17</td>\n",
       "      <td>67124001</td>\n",
       "      <td>36</td>\n",
       "      <td>20.863298</td>\n",
       "    </tr>\n",
       "    <tr>\n",
       "      <th>21160</th>\n",
       "      <td>20/05/17</td>\n",
       "      <td>75114001</td>\n",
       "      <td>36</td>\n",
       "      <td>19.517374</td>\n",
       "    </tr>\n",
       "    <tr>\n",
       "      <th>21161</th>\n",
       "      <td>21/05/17</td>\n",
       "      <td>6088001</td>\n",
       "      <td>36</td>\n",
       "      <td>21.080037</td>\n",
       "    </tr>\n",
       "    <tr>\n",
       "      <th>21162</th>\n",
       "      <td>21/05/17</td>\n",
       "      <td>31069001</td>\n",
       "      <td>36</td>\n",
       "      <td>26.257446</td>\n",
       "    </tr>\n",
       "    <tr>\n",
       "      <th>21163</th>\n",
       "      <td>21/05/17</td>\n",
       "      <td>33281001</td>\n",
       "      <td>36</td>\n",
       "      <td>27.609985</td>\n",
       "    </tr>\n",
       "    <tr>\n",
       "      <th>21164</th>\n",
       "      <td>21/05/17</td>\n",
       "      <td>35281001</td>\n",
       "      <td>36</td>\n",
       "      <td>24.398333</td>\n",
       "    </tr>\n",
       "    <tr>\n",
       "      <th>21165</th>\n",
       "      <td>21/05/17</td>\n",
       "      <td>59343001</td>\n",
       "      <td>36</td>\n",
       "      <td>23.431072</td>\n",
       "    </tr>\n",
       "    <tr>\n",
       "      <th>21166</th>\n",
       "      <td>21/05/17</td>\n",
       "      <td>67124001</td>\n",
       "      <td>36</td>\n",
       "      <td>22.630039</td>\n",
       "    </tr>\n",
       "    <tr>\n",
       "      <th>21167</th>\n",
       "      <td>21/05/17</td>\n",
       "      <td>75114001</td>\n",
       "      <td>36</td>\n",
       "      <td>22.951547</td>\n",
       "    </tr>\n",
       "  </tbody>\n",
       "</table>\n",
       "<p>21168 rows × 4 columns</p>\n",
       "</div>"
      ],
      "text/plain": [
       "           date     insee  ech    tH2_obs\n",
       "0      20/06/16   6088001    1  18.537624\n",
       "1      20/06/16  31069001    1  13.042769\n",
       "2      20/06/16  33281001    1  11.990178\n",
       "3      20/06/16  35281001    1  14.882143\n",
       "4      20/06/16  59343001    1  14.242323\n",
       "5      20/06/16  67124001    1  10.706104\n",
       "6      20/06/16  75114001    1  17.750363\n",
       "7      21/06/16   6088001    1  18.684455\n",
       "8      21/06/16  31069001    1  15.831139\n",
       "9      21/06/16  33281001    1  14.651365\n",
       "10     21/06/16  35281001    1  15.731673\n",
       "11     21/06/16  59343001    1  14.149017\n",
       "12     21/06/16  67124001    1  14.222036\n",
       "13     21/06/16  75114001    1  16.148315\n",
       "14     22/06/16   6088001    1  18.796226\n",
       "15     22/06/16  31069001    1  19.954353\n",
       "16     22/06/16  33281001    1  19.795159\n",
       "17     22/06/16  35281001    1  17.850240\n",
       "18     22/06/16  59343001    1  13.994480\n",
       "19     22/06/16  67124001    1  16.002687\n",
       "20     22/06/16  75114001    1  19.301977\n",
       "21     23/06/16   6088001    1  23.119421\n",
       "22     23/06/16  31069001    1  21.719494\n",
       "23     23/06/16  33281001    1  22.252181\n",
       "24     23/06/16  35281001    1  20.655540\n",
       "25     23/06/16  59343001    1  19.987201\n",
       "26     23/06/16  67124001    1  17.704295\n",
       "27     23/06/16  75114001    1  23.737604\n",
       "28     24/06/16   6088001    1  26.003995\n",
       "29     24/06/16  31069001    1  19.007138\n",
       "...         ...       ...  ...        ...\n",
       "21138  17/05/17  67124001   36  23.268433\n",
       "21139  17/05/17  75114001   36  14.853025\n",
       "21140  18/05/17   6088001   36  18.413261\n",
       "21141  18/05/17  31069001   36  16.607262\n",
       "21142  18/05/17  33281001   36  16.419635\n",
       "21143  18/05/17  35281001   36  15.541399\n",
       "21144  18/05/17  59343001   36  12.127883\n",
       "21145  18/05/17  67124001   36  13.382579\n",
       "21146  18/05/17  75114001   36  15.709207\n",
       "21147  19/05/17   6088001   36  20.666301\n",
       "21148  19/05/17  31069001   36  20.333808\n",
       "21149  19/05/17  33281001   36  18.078672\n",
       "21150  19/05/17  35281001   36  15.143683\n",
       "21151  19/05/17  59343001   36  16.053434\n",
       "21152  19/05/17  67124001   36  16.262036\n",
       "21153  19/05/17  75114001   36  14.990210\n",
       "21154  20/05/17   6088001   36  21.108915\n",
       "21155  20/05/17  31069001   36  23.387304\n",
       "21156  20/05/17  33281001   36  22.487260\n",
       "21157  20/05/17  35281001   36  19.184045\n",
       "21158  20/05/17  59343001   36  18.839810\n",
       "21159  20/05/17  67124001   36  20.863298\n",
       "21160  20/05/17  75114001   36  19.517374\n",
       "21161  21/05/17   6088001   36  21.080037\n",
       "21162  21/05/17  31069001   36  26.257446\n",
       "21163  21/05/17  33281001   36  27.609985\n",
       "21164  21/05/17  35281001   36  24.398333\n",
       "21165  21/05/17  59343001   36  23.431072\n",
       "21166  21/05/17  67124001   36  22.630039\n",
       "21167  21/05/17  75114001   36  22.951547\n",
       "\n",
       "[21168 rows x 4 columns]"
      ]
     },
     "execution_count": 93,
     "metadata": {},
     "output_type": "execute_result"
    }
   ],
   "source": [
    "t"
   ]
  },
  {
   "cell_type": "code",
   "execution_count": 94,
   "metadata": {
    "collapsed": true
   },
   "outputs": [],
   "source": [
    "t.to_csv('test_BIGDonnees.csv',sep=';')"
   ]
  },
  {
   "cell_type": "code",
   "execution_count": null,
   "metadata": {
    "collapsed": true
   },
   "outputs": [],
   "source": []
  }
 ],
 "metadata": {
  "kernelspec": {
   "display_name": "Python 3",
   "language": "python",
   "name": "python3"
  },
  "language_info": {
   "codemirror_mode": {
    "name": "ipython",
    "version": 3
   },
   "file_extension": ".py",
   "mimetype": "text/x-python",
   "name": "python",
   "nbconvert_exporter": "python",
   "pygments_lexer": "ipython3",
   "version": "3.5.1"
  }
 },
 "nbformat": 4,
 "nbformat_minor": 2
}
